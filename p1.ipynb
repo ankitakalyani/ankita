{
  "nbformat": 4,
  "nbformat_minor": 0,
  "metadata": {
    "colab": {
      "name": "p1.ipynb",
      "version": "0.3.2",
      "provenance": [],
      "collapsed_sections": [],
      "include_colab_link": true
    },
    "kernelspec": {
      "name": "python3",
      "display_name": "Python 3"
    }
  },
  "cells": [
    {
      "cell_type": "markdown",
      "metadata": {
        "id": "view-in-github",
        "colab_type": "text"
      },
      "source": [
        "<a href=\"https://colab.research.google.com/github/ankitakalyani/ankita/blob/master/p1.ipynb\" target=\"_parent\"><img src=\"https://colab.research.google.com/assets/colab-badge.svg\" alt=\"Open In Colab\"/></a>"
      ]
    },
    {
      "cell_type": "code",
      "metadata": {
        "id": "071hsXVMYtPB",
        "colab_type": "code",
        "colab": {
          "base_uri": "https://localhost:8080/",
          "height": 34
        },
        "outputId": "cce589d8-3433-4d87-8c52-a16afeb5dc09"
      },
      "source": [
        "import numpy as np\n",
        "Physics=[[15],[12],[8],[8],[7],[7],[7],[6],[5],[3]]\n",
        "History=[[10],[25],[17],[11],[13],[17],[20],[13],[9],[15]]\n",
        "a=np.std(Physics)\n",
        "b=np.std(History)\n",
        "Physics=[15,12,8,8,7,7,7,6,5,3]\n",
        "History=[10,25,17,11,13,17,20,13,9,15]\n",
        "c=np.cov(Physics,History,bias=True)[0][1]\n",
        "r=c/(a*b)\n",
        "print('%.3f' %r)"
      ],
      "execution_count": 1,
      "outputs": [
        {
          "output_type": "stream",
          "text": [
            "0.145\n"
          ],
          "name": "stdout"
        }
      ]
    }
  ]
}