{
  "nbformat": 4,
  "nbformat_minor": 0,
  "metadata": {
    "colab": {
      "name": "stat.ipynb",
      "version": "0.3.2",
      "provenance": [],
      "collapsed_sections": [],
      "include_colab_link": true
    },
    "kernelspec": {
      "name": "python3",
      "display_name": "Python 3"
    }
  },
  "cells": [
    {
      "cell_type": "markdown",
      "metadata": {
        "id": "view-in-github",
        "colab_type": "text"
      },
      "source": [
        "<a href=\"https://colab.research.google.com/github/ankitakalyani/ankita/blob/master/stat.ipynb\" target=\"_parent\"><img src=\"https://colab.research.google.com/assets/colab-badge.svg\" alt=\"Open In Colab\"/></a>"
      ]
    },
    {
      "cell_type": "code",
      "metadata": {
        "id": "fYMYtIdxXIUy",
        "colab_type": "code",
        "colab": {
          "base_uri": "https://localhost:8080/",
          "height": 269
        },
        "outputId": "d82373f9-d112-46c4-9ff5-7692b703e5e1"
      },
      "source": [
        "import numpy as np\n",
        "from scipy import stats\n",
        "n=int(input())\n",
        "x=[int(input()) for i in range (n)]\n",
        "\n",
        "print(np.mean(x))\n",
        "print(np.median(x))\n",
        "print(stats.mode(x))\n",
        "print(np.std(x))"
      ],
      "execution_count": 1,
      "outputs": [
        {
          "output_type": "stream",
          "text": [
            "10\n",
            "64630\n",
            "11735\n",
            "14216\n",
            "4978\n",
            "73429\n",
            "38120\n",
            "51135\n",
            "67060\n",
            "99233\n",
            "14470\n",
            "43900.6\n",
            "44627.5\n",
            "ModeResult(mode=array([4978]), count=array([1]))\n",
            "30466.947527443575\n"
          ],
          "name": "stdout"
        }
      ]
    }
  ]
}